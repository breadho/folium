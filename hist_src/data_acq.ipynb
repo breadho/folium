{
 "cells": [
  {
   "cell_type": "markdown",
   "id": "b7e7a1ed",
   "metadata": {},
   "source": [
    "## Physics Toolbox Suite 데이터 수집"
   ]
  },
  {
   "cell_type": "markdown",
   "id": "bc2ac6cc",
   "metadata": {},
   "source": [
    "- 수집일: 2023-09-28, 2023-09-29\n",
    "- 수집구간\n",
    "    * (1구간) 고성 문암리 -> 원통 우체국\n",
    "    * (2구간) 원통 우체국 -> 양구 성곡재 인근 \n",
    "    * (3구간) 양구 성곡재 인근 -> 화천터미널\n",
    "    * (4구간) 화천터미널 -> 47번 국도 합류점 \n",
    "    * (5구간) 47번 국도 합류점 -> 의정부\n",
    "    * (6구간) 의정부 -> 춘천 위도 인근\n",
    "    * (7구간) 춘천 -> 가평 \n",
    "    * (8구간) 가평 -> 의정부"
   ]
  },
  {
   "cell_type": "markdown",
   "id": "542e5190",
   "metadata": {},
   "source": [
    "- 수집결과 확인\n",
    "> 측정값 \n",
    "> - (시간) 'time'\n",
    "> - (중력가속도) 'gFx', 'gFy', 'gFz'\n",
    "> - (선형가속도) 'ax', 'ay', 'az'\n",
    "> - (자이로스코프) 'wx', 'wy', 'wz'\n",
    "> - (기압) 'p'\n",
    "> - (자력) 'Bx', 'By', 'Bz'\n",
    "> - (광도) 'I'\n",
    "> - (방위각) 'Azimuth'\n",
    "> - (고도) 'Pitch'\n",
    "> - (횡전) 'Roll'\n",
    "> - (위도) 'Latitude',\n",
    "> - (경도) 'Longitude'\n",
    "> - (속도) 'Speed (m/s)'"
   ]
  },
  {
   "cell_type": "code",
   "execution_count": null,
   "id": "5bf732d6",
   "metadata": {},
   "outputs": [],
   "source": [
    "import pandas as pd\n",
    "import numpy as np\n",
    "import matplotlib as plt"
   ]
  },
  {
   "cell_type": "code",
   "execution_count": null,
   "id": "3896dd93",
   "metadata": {},
   "outputs": [],
   "source": [
    "import os\n",
    "os.listdir('./data')"
   ]
  },
  {
   "cell_type": "code",
   "execution_count": null,
   "id": "eca8f72e",
   "metadata": {},
   "outputs": [],
   "source": [
    "# 2023년 9월 28일 수집한 데이터 - 양구 옛길\n",
    "df1 = pd.read_csv('data/2023-09-2807.21.27.csv')\n",
    "df2 = pd.read_csv('data/2023-09-2808.37.36.csv')\n",
    "df3 = pd.read_csv('data/2023-09-2809.43.39.csv')\n",
    "df4 = pd.read_csv('data/2023-09-2810.47.01.csv')\n",
    "df5 = pd.read_csv('data/2023-09-2811.48.46.csv')\n",
    "\n",
    "# 2023년 9월 29일 수집한 데이터 - 성묘길\n",
    "df6 = pd.read_csv('data/2023-09-2907.36.24.csv')\n",
    "df7 = pd.read_csv('data/2023-09-2911.38.17.csv')\n",
    "df8 = pd.read_csv('data/2023-09-2912.38.09.csv')"
   ]
  },
  {
   "cell_type": "code",
   "execution_count": null,
   "id": "f5c99fdf",
   "metadata": {},
   "outputs": [],
   "source": [
    "# 9개의 데이터프레임을 리스트에 저장\n",
    "dfs = [df1, df2, df3, df4, df5, df6, df7, df8]\n",
    "\n",
    "# 모든 데이터프레임의 컬럼명 출력\n",
    "for df in dfs:\n",
    "    print(df.columns)"
   ]
  },
  {
   "cell_type": "code",
   "execution_count": null,
   "id": "61b4397b",
   "metadata": {},
   "outputs": [],
   "source": [
    "df7.tail(10)"
   ]
  },
  {
   "cell_type": "code",
   "execution_count": null,
   "id": "39c3d7e5",
   "metadata": {},
   "outputs": [],
   "source": [
    "df8.head(10)"
   ]
  },
  {
   "cell_type": "code",
   "execution_count": null,
   "id": "f0968ea8",
   "metadata": {},
   "outputs": [],
   "source": [
    "# 모든 데이터프레임에서 'Unnamed: 21' 컬럼 삭제\n",
    "for df in dfs:\n",
    "    df.drop('Unnamed: 21', axis=1, inplace=True)"
   ]
  },
  {
   "cell_type": "code",
   "execution_count": null,
   "id": "4534cb45",
   "metadata": {},
   "outputs": [],
   "source": [
    "# 각 데이터프레임에 'course' 컬럼 추가 및 값 할당\n",
    "for idx, df in enumerate(dfs, start=1):\n",
    "    course_value = chr(64 + idx)  # 'A'부터 시작하여 각 데이터프레임에 대해 'A', 'B', 'C', ... 값을 할당\n",
    "    df['course'] = course_value"
   ]
  },
  {
   "cell_type": "code",
   "execution_count": null,
   "id": "63dd89fd",
   "metadata": {},
   "outputs": [],
   "source": [
    "# 각 데이터 프레임의 course 컬럼 값 확인\n",
    "for df in dfs:\n",
    "    print(df['course'].unique())"
   ]
  },
  {
   "cell_type": "code",
   "execution_count": null,
   "id": "2f5aea6e",
   "metadata": {},
   "outputs": [],
   "source": [
    "# 각 데이터프레임의 'time' 컬럼을 시계열 데이터로 변환\n",
    "dfs1 = [df1, df2, df3, df4, df5] # '2023-09-28' 데이터\n",
    "dfs2 = [df6, df7, df8]  # '2023-09-29' 데이터\n",
    "\n",
    "for df in dfs1:\n",
    "    df['time_ts'] = pd.to_datetime(df['time'], format='%H:%M:%S:%f')\n",
    "    # 시계열 데이터를 2023-09-28으로 변경\n",
    "    desired_date = pd.Timestamp('2023-09-28')\n",
    "    df['time_ts'] = df['time_ts'].apply(lambda x: x.replace(year=desired_date.year, month=desired_date.month, day=desired_date.day))\n",
    "    \n",
    "    \n",
    "for df in dfs2:\n",
    "    df['time_ts'] = pd.to_datetime(df['time'], format='%H:%M:%S:%f')\n",
    "    # 시계열 데이터를 2023-09-29으로 변경\n",
    "    desired_date = pd.Timestamp('2023-09-29')\n",
    "    df['time_ts'] = df['time_ts'].apply(lambda x: x.replace(year=desired_date.year, month=desired_date.month, day=desired_date.day))"
   ]
  },
  {
   "cell_type": "code",
   "execution_count": null,
   "id": "e0f450ce",
   "metadata": {},
   "outputs": [],
   "source": [
    "df8.tail(10)"
   ]
  },
  {
   "cell_type": "markdown",
   "id": "1496b7e1",
   "metadata": {},
   "source": [
    "Pandas time 변환 참고 코드 \n",
    "\n",
    "```python\n",
    "import pandas as pd\n",
    "\n",
    "# 예시 데이터프레임 생성\n",
    "data = {'time': ['1900-01-01 14:14:35.655']}\n",
    "df = pd.DataFrame(data)\n",
    "\n",
    "# 'time' 컬럼을 시계열 데이터로 변환\n",
    "df['time'] = pd.to_datetime(df['time'], format='%Y-%m-%d %H:%M:%S.%f')\n",
    "\n",
    "# 시계열 데이터를 2023-09-29으로 변경\n",
    "desired_date = pd.Timestamp('2023-09-29')\n",
    "df['time'] = df['time'].apply(lambda x: x.replace(year=desired_date.year, month=desired_date.month, day=desired_date.day))\n",
    "\n",
    "# 결과 확인\n",
    "print(df)\n",
    "```\n",
    "\n",
    "**`참고문헌`**\n",
    "- https://ellun.tistory.com/320\n",
    "- https://pandas.pydata.org/docs/user_guide/timeseries.html\n",
    "- https://pandas.pydata.org/docs/reference/api/pandas.to_datetime.html"
   ]
  },
  {
   "cell_type": "code",
   "execution_count": null,
   "id": "6bac584b",
   "metadata": {},
   "outputs": [],
   "source": [
    "# 데이터프레임을 하나로 결합\n",
    "combined_df = pd.concat(dfs1, ignore_index=True)\n",
    "\n",
    "# 결과 확인\n",
    "print(combined_df.shape)\n",
    "print(combined_df.head(6))"
   ]
  },
  {
   "cell_type": "code",
   "execution_count": null,
   "id": "e0bb8ee8",
   "metadata": {},
   "outputs": [],
   "source": [
    "# 9월 29일 데이터도 하나의 데이터프레임으로 결합\n",
    "combined_df2 = pd.concat(dfs2, ignore_index=True)\n",
    "\n",
    "# 결과 확인\n",
    "print(combined_df2.shape)\n",
    "print(combined_df2.head(6))"
   ]
  },
  {
   "cell_type": "code",
   "execution_count": null,
   "id": "239848d8",
   "metadata": {},
   "outputs": [],
   "source": [
    "# 'time_ts' 컬럼을 인덱스로 설정하고 time 컬럼을 drop하기\n",
    "combined_df.set_index('time_ts', inplace=True)\n",
    "combined_df.drop('time', axis=1, inplace=True)\n",
    "\n",
    "combined_df2.set_index('time_ts', inplace=True)\n",
    "combined_df2.drop('time', axis=1, inplace=True)"
   ]
  },
  {
   "cell_type": "code",
   "execution_count": null,
   "id": "b3b77e26",
   "metadata": {},
   "outputs": [],
   "source": [
    "# 결과 확인\n",
    "print(combined_df.head(6))\n",
    "print(\"\\n\", \"---\" * 20, \"\\n\")\n",
    "print(combined_df2.head(6))"
   ]
  },
  {
   "cell_type": "code",
   "execution_count": null,
   "id": "0b1b169a",
   "metadata": {},
   "outputs": [],
   "source": [
    "# 데이터 타입 확인하기\n",
    "combined_df.info()\n",
    "combined_df2.info()"
   ]
  },
  {
   "cell_type": "markdown",
   "id": "39daad10",
   "metadata": {},
   "source": [
    "## 데이터를 다른 형식으로 저장하기"
   ]
  },
  {
   "cell_type": "code",
   "execution_count": null,
   "id": "45659199",
   "metadata": {},
   "outputs": [],
   "source": [
    "# 1. parquet 형식으로 저장하기\n",
    "import pyarrow as pa\n",
    "import pyarrow.parquet as pq"
   ]
  },
  {
   "cell_type": "code",
   "execution_count": null,
   "id": "8ea3c99a",
   "metadata": {},
   "outputs": [],
   "source": [
    "# 데이터프레임을 Parquet 파일로 저장\n",
    "table = pa.Table.from_pandas(df)\n",
    "pq.write_table(table, 'example.parquet')"
   ]
  },
  {
   "cell_type": "code",
   "execution_count": null,
   "id": "31e7efc2",
   "metadata": {},
   "outputs": [],
   "source": [
    "import pandas as pd\n",
    "import pickle\n",
    "\n",
    "# combined_df 데이터프레임을 pickle 파일로 저장\n",
    "with open('combined_df.pkl', 'wb') as file:\n",
    "    pickle.dump(combined_df, file)\n",
    "\n",
    "# combined_df2 데이터프레임을 pickle 파일로 저장\n",
    "with open('combined_df2.pkl', 'wb') as file:\n",
    "    pickle.dump(combined_df2, file)"
   ]
  },
  {
   "cell_type": "markdown",
   "id": "1dbc3eb2",
   "metadata": {},
   "source": [
    "```python\n",
    "import pickle\n",
    "\n",
    "# pickle 파일 로드\n",
    "with open('combined_df2.pkl', 'rb') as file2:\n",
    "    loaded_df = pickle.load(file2)\n",
    "\n",
    "# 로드된 데이터프레임 확인\n",
    "print(loaded_df2)\n",
    "```"
   ]
  },
  {
   "cell_type": "markdown",
   "id": "c5094643",
   "metadata": {},
   "source": [
    "## 데이터 시각화하기"
   ]
  },
  {
   "cell_type": "markdown",
   "id": "4b921984",
   "metadata": {},
   "source": [
    "### 1. Auto EDA 툴 활용"
   ]
  },
  {
   "cell_type": "code",
   "execution_count": null,
   "id": "7bd05f33",
   "metadata": {},
   "outputs": [],
   "source": [
    "import numpy as np\n",
    "import pandas as pd\n",
    "from ydata_profiling import ProfileReport"
   ]
  },
  {
   "cell_type": "code",
   "execution_count": null,
   "id": "a476916e",
   "metadata": {},
   "outputs": [],
   "source": [
    "profile = ProfileReport(combined_df, title=\"Old Road through YangGu\", minimal = True)"
   ]
  },
  {
   "cell_type": "code",
   "execution_count": null,
   "id": "d2e3504e",
   "metadata": {},
   "outputs": [],
   "source": [
    "profile.to_file(\"ydata_report_2.html\")"
   ]
  },
  {
   "cell_type": "markdown",
   "id": "22a6d796",
   "metadata": {},
   "source": [
    "속도 변환 needs 확인"
   ]
  },
  {
   "cell_type": "code",
   "execution_count": null,
   "id": "29969a56",
   "metadata": {},
   "outputs": [],
   "source": [
    "combined_df.columns"
   ]
  },
  {
   "cell_type": "code",
   "execution_count": null,
   "id": "9bb2cdd1",
   "metadata": {},
   "outputs": [],
   "source": []
  },
  {
   "cell_type": "code",
   "execution_count": null,
   "id": "2b158192",
   "metadata": {},
   "outputs": [],
   "source": []
  },
  {
   "cell_type": "code",
   "execution_count": null,
   "id": "7887fcbd",
   "metadata": {},
   "outputs": [],
   "source": []
  },
  {
   "cell_type": "code",
   "execution_count": null,
   "id": "c8095294",
   "metadata": {},
   "outputs": [],
   "source": []
  },
  {
   "cell_type": "code",
   "execution_count": null,
   "id": "0e9d1759",
   "metadata": {},
   "outputs": [],
   "source": []
  },
  {
   "cell_type": "code",
   "execution_count": null,
   "id": "ae27695f",
   "metadata": {},
   "outputs": [],
   "source": []
  },
  {
   "cell_type": "code",
   "execution_count": null,
   "id": "90897d64",
   "metadata": {},
   "outputs": [],
   "source": []
  },
  {
   "cell_type": "code",
   "execution_count": null,
   "id": "e8fd3223",
   "metadata": {},
   "outputs": [],
   "source": []
  }
 ],
 "metadata": {
  "hide_input": false,
  "kernelspec": {
   "display_name": "Python 3 (ipykernel)",
   "language": "python",
   "name": "python3"
  },
  "language_info": {
   "codemirror_mode": {
    "name": "ipython",
    "version": 3
   },
   "file_extension": ".py",
   "mimetype": "text/x-python",
   "name": "python",
   "nbconvert_exporter": "python",
   "pygments_lexer": "ipython3",
   "version": "3.10.12"
  }
 },
 "nbformat": 4,
 "nbformat_minor": 5
}
